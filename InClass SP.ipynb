{
 "cells": [
  {
   "cell_type": "markdown",
   "id": "c0eb270b",
   "metadata": {},
   "source": [
    "Huge Fruit Basket (HFB) is a grocery shop that sells fruits. It is observed that 20% of their customers complain about the fruits purchased by them for many reasons (bad quality, foul smell and less quantity). On Friday, 30 customers purchased fruits from HFB."
   ]
  },
  {
   "cell_type": "markdown",
   "id": "b8d2ef45",
   "metadata": {},
   "source": [
    "ques1. Calculate the probability that exactly 10 customers will complain about the purchased products."
   ]
  },
  {
   "cell_type": "code",
   "execution_count": 2,
   "id": "f8fedf73",
   "metadata": {},
   "outputs": [],
   "source": [
    "from scipy import stats\n",
    "import pandas as pd\n",
    "import seaborn as sns\n",
    "import matplotlib.pyplot as plt\n",
    "import numpy as np\n",
    "import math"
   ]
  },
  {
   "cell_type": "code",
   "execution_count": 4,
   "id": "daa52e98",
   "metadata": {},
   "outputs": [
    {
     "name": "stdout",
     "output_type": "stream",
     "text": [
      "Exactly 3 customers will complain about products 3.55 %\n"
     ]
    }
   ],
   "source": [
    "prob = stats.binom.pmf(10, 30, 0.2) * 100\n",
    "prob = round(prob, 2)\n",
    "print(\"Exactly 3 customers will complain about products {} %\".format(prob))"
   ]
  },
  {
   "cell_type": "markdown",
   "id": "acab9859",
   "metadata": {},
   "source": [
    "ques2. Create a list of all possible number of successes (0 to 15) and corresponding Probability Mass Funcrion (PMF) values and draw a bar plot. In other words; Calculate the probability that exactly n customers will complain about the purchased products; where n is 0 to 15."
   ]
  },
  {
   "cell_type": "code",
   "execution_count": 5,
   "id": "50ca77dc",
   "metadata": {},
   "outputs": [
    {
     "data": {
      "text/plain": [
       "Text(0.5, 0, 'Number of customers who will complain')"
      ]
     },
     "execution_count": 5,
     "metadata": {},
     "output_type": "execute_result"
    },
    {
     "data": {
      "image/png": "[encoded data removed]",
      "text/plain": [
       "<Figure size 640x480 with 1 Axes>"
      ]
     },
     "metadata": {},
     "output_type": "display_data"
    }
   ],
   "source": [
    "pmf_df = pd.DataFrame({'success': range(0,16), 'pmf': list(stats.binom.pmf(range(0,16), 30, 0.2))})\n",
    "sns.barplot(x = pmf_df.success, y = pmf_df.pmf)\n",
    "plt.ylabel('pmf')\n",
    "plt.xlabel('Number of customers who will complain')"
   ]
  },
  {
   "cell_type": "markdown",
   "id": "2a3af41e",
   "metadata": {},
   "source": [
    "ques3. Calculate the probability that maximum of 10 customers will complain about the fruits purchased by them."
   ]
  },
  {
   "cell_type": "code",
   "execution_count": 6,
   "id": "deac6ff3",
   "metadata": {},
   "outputs": [
    {
     "name": "stdout",
     "output_type": "stream",
     "text": [
      "Maximum 10 customers will complain 97.44 %\n"
     ]
    }
   ],
   "source": [
    "prob = stats.binom.cdf(10, 30, 0.2) * 100\n",
    "prob = round(prob, 2)\n",
    "print(\"Maximum 10 customers will complain {} %\".format(prob))"
   ]
  },
  {
   "cell_type": "markdown",
   "id": "29b64dc8",
   "metadata": {},
   "source": [
    "ques4.  Calculate the probability that more than 10 customers will complain about the fruits purchased by them."
   ]
  },
  {
   "cell_type": "code",
   "execution_count": 7,
   "id": "f14d97cd",
   "metadata": {},
   "outputs": [
    {
     "name": "stdout",
     "output_type": "stream",
     "text": [
      "More than 10 customers will complain 2.56 %\n"
     ]
    }
   ],
   "source": [
    "prob = 100 - stats.binom.cdf(10, 30, 0.2) * 100\n",
    "prob = round(prob, 2)\n",
    "print(\"More than 10 customers will complain {} %\".format(prob))"
   ]
  },
  {
   "cell_type": "markdown",
   "id": "b3517c4d",
   "metadata": {},
   "source": [
    "ques5. Find the average number of customers who are likely to complain about the fruits. Also find the variance of the number of complaints."
   ]
  },
  {
   "cell_type": "code",
   "execution_count": 8,
   "id": "f806e236",
   "metadata": {},
   "outputs": [
    {
     "name": "stdout",
     "output_type": "stream",
     "text": [
      "Average customers who will complaint 6.0.\n",
      "variance of number of complaints 4.800000000000001.\n"
     ]
    }
   ],
   "source": [
    "average, variance = stats.binom.stats(30, 0.2)\n",
    "print(\"Average customers who will complaint {}.\".format(average))\n",
    "print(\"variance of number of complaints {}.\".format(variance))"
   ]
  },
  {
   "cell_type": "markdown",
   "id": "30e46bba",
   "metadata": {},
   "source": [
    "# Note: The number of customer returns in a retail chain per day follows a poisson distribution at a rate of 25 returns per day."
   ]
  },
  {
   "cell_type": "markdown",
   "id": "59af0dd9",
   "metadata": {},
   "source": [
    "ques6. Calculate the probability that the number of returns exceeds 30 in a day"
   ]
  },
  {
   "cell_type": "code",
   "execution_count": 10,
   "id": "064b3514",
   "metadata": {},
   "outputs": [
    {
     "name": "stdout",
     "output_type": "stream",
     "text": [
      "The number of returns exceeds 30 in a day is 13.67%.\n"
     ]
    }
   ],
   "source": [
    "prob = (1 - stats.poisson.cdf(30, 25)) * 100\n",
    "prob = round(prob, 2)\n",
    "print(\"The number of returns exceeds 30 in a day is {}%.\".format(prob))"
   ]
  },
  {
   "cell_type": "markdown",
   "id": "71b12c9d",
   "metadata": {},
   "source": [
    "ques7. The IQ of students follows normal distribution with mean 95 and variance 10. What is the probability that the any student selected at random will have IQ more than 102?"
   ]
  },
  {
   "cell_type": "code",
   "execution_count": 11,
   "id": "c3693a8f",
   "metadata": {},
   "outputs": [
    {
     "data": {
      "text/plain": [
       "0.013428347753762226"
      ]
     },
     "execution_count": 11,
     "metadata": {},
     "output_type": "execute_result"
    }
   ],
   "source": [
    "from scipy.stats import norm\n",
    "m_ean = 95 \n",
    "var = 10\n",
    "s_deviation = np.sqrt(var)\n",
    "1 - norm.cdf(102, m_ean, s_deviation)"
   ]
  },
  {
   "cell_type": "markdown",
   "id": "6fb7453a",
   "metadata": {},
   "source": [
    "ques8. The number of road accidents on the day follow Poisson distribution with mean equals to 3. What is the probability that on a day exactly 1 accident will happen?"
   ]
  },
  {
   "cell_type": "code",
   "execution_count": 12,
   "id": "6e098892",
   "metadata": {},
   "outputs": [
    {
     "data": {
      "text/plain": [
       "0.14936120510359185"
      ]
     },
     "execution_count": 12,
     "metadata": {},
     "output_type": "execute_result"
    }
   ],
   "source": [
    "from scipy.stats import poisson\n",
    "poisson.pmf(1, 3)"
   ]
  },
  {
   "cell_type": "markdown",
   "id": "2948bd41",
   "metadata": {},
   "source": [
    "ques9. Consider the following data does it follow a normal distribution?"
   ]
  },
  {
   "cell_type": "markdown",
   "id": "2e6c15c1",
   "metadata": {},
   "source": [
    " 75, 97, 70, 25, 80, 40, 82, 72, 82, 46, 72, 64, 24, 66, 78, 34, 37,\n",
    "    64, 75, 94, 76, 96, 88, 37, 29, 51, 67, 45, 69, 59, 81, 66, 30, 52,\n",
    "    66, 85, 80, 74, 69, 83, 66, 84, 76, 73, 77, 85, 72, 71, 71, 75, 59,\n",
    "    84, 65, 64, 86, 58, 85, 61, 79, 61, 68, 61, 60, 78, 76, 80, 57, 75"
   ]
  },
  {
   "cell_type": "markdown",
   "id": "80b9e967",
   "metadata": {},
   "source": [
    "The null and alternate hypothesis of Shapiro-Wilk test are as follows:\n",
    "\n",
    "H0: The data is normally distributed\n",
    "AGAINST\n",
    "Ha: The data is not normally distributed"
   ]
  },
  {
   "cell_type": "code",
   "execution_count": 13,
   "id": "30302275",
   "metadata": {},
   "outputs": [
    {
     "name": "stdout",
     "output_type": "stream",
     "text": [
      "Statistic is 0.9307893514633179  p-value is 0.0009826984023675323\n"
     ]
    }
   ],
   "source": [
    "data = pd.Series([75, 97, 70, 25, 80, 40, 82, 72, 82, 46, 72, 64, 24, 66, 78, 34, 37,\n",
    "                64, 75, 94, 76, 96, 88, 37, 29, 51, 67, 45, 69, 59, 81, 66, 30, 52,\n",
    "                66, 85, 80, 74, 69, 83, 66, 84, 76, 73, 77, 85, 72, 71, 71, 75, 59,\n",
    "                84, 65, 64, 86, 58, 85, 61, 79, 61, 68, 61, 60, 78, 76, 80, 57, 75])\n",
    "from scipy.stats import shapiro\n",
    "stat, p = shapiro(data)\n",
    "print(\"Statistic is\", stat,\" p-value is\",p)"
   ]
  },
  {
   "cell_type": "markdown",
   "id": "e46aab22",
   "metadata": {},
   "source": [
    "H0 rejected, not normally distributed"
   ]
  },
  {
   "cell_type": "markdown",
   "id": "c06d43d7",
   "metadata": {},
   "source": [
    "ques10. Consider three coins are tossed simultaneously.\n",
    "1) How many outcomes have at least two heads?\n",
    "2) What is the probability of the this event?"
   ]
  },
  {
   "cell_type": "code",
   "execution_count": 16,
   "id": "d0f1b1df",
   "metadata": {},
   "outputs": [
    {
     "data": {
      "text/plain": [
       "0.5"
      ]
     },
     "execution_count": 16,
     "metadata": {},
     "output_type": "execute_result"
    }
   ],
   "source": [
    "atleast_two_heads = 'HHH', 'HHT', 'HTH', 'THH'\n",
    "no_outcomes_atleast_two_heads = len(atleast_two_heads)\n",
    "total_o = 8\n",
    "no_outcomes_atleast_two_heads/total_o"
   ]
  },
  {
   "cell_type": "markdown",
   "id": "2a23cdc3",
   "metadata": {},
   "source": [
    "ques11. A textile industry observed that on an average its employees can stitch 34 garment on a particular day with variance 3. What are minimum and maximum number of garments that can be produced?"
   ]
  },
  {
   "cell_type": "code",
   "execution_count": 18,
   "id": "0da29075",
   "metadata": {},
   "outputs": [
    {
     "name": "stdout",
     "output_type": "stream",
     "text": [
      "The probability of selecting a red card 0.5\n"
     ]
    },
    {
     "data": {
      "text/plain": [
       "31.0"
      ]
     },
     "execution_count": 18,
     "metadata": {},
     "output_type": "execute_result"
    }
   ],
   "source": [
    "selecting_card = 1/52\n",
    "required_probability = 26 *selecting_card\n",
    "\n",
    "print('The probability of selecting a red card', required_probability)\n",
    "mean = 34\n",
    "s = mean*2\n",
    "s\n",
    "var = 3\n",
    "d2 = 12*3 \n",
    "d = np.sqrt(d2)\n",
    "d\n",
    "b = (68+6)/2\n",
    "b\n",
    "a = 68 - b\n",
    "a"
   ]
  },
  {
   "cell_type": "markdown",
   "id": "d69fecb7",
   "metadata": {},
   "source": [
    "ques12. A telecom industry is keen to know the call duration of its customers to introduce new prepaid plans. The data for call duration in minutes is given as follows:\n",
    "Call duration (in minutes): 23, 03, 13, 04, 45, 35, 48, 98, 65, 45, 75, 24, 15, 25, 34, 17, 16, 17, 19\n",
    "\n",
    "Obtain the descriptive statistics of the data."
   ]
  },
  {
   "cell_type": "code",
   "execution_count": 19,
   "id": "2023f25f",
   "metadata": {},
   "outputs": [
    {
     "data": {
      "text/plain": [
       "count    19.000000\n",
       "mean     32.684211\n",
       "std      24.984557\n",
       "min       3.000000\n",
       "25%      16.500000\n",
       "50%      24.000000\n",
       "75%      45.000000\n",
       "max      98.000000\n",
       "dtype: float64"
      ]
     },
     "execution_count": 19,
     "metadata": {},
     "output_type": "execute_result"
    }
   ],
   "source": [
    "call_duration = pd.Series([23, 3, 13, 4, 45, 35, 48, 98, 65, 45, 75, 24, 15, 25, 34, 17, 16, 17, 19 ])\n",
    "call_duration.describe()"
   ]
  },
  {
   "cell_type": "markdown",
   "id": "2d695690",
   "metadata": {},
   "source": [
    "## ClickDart is an e-commerce company. It claims that the product will be delivered within 30 days of placing the order. The data is given below that contains the delivery time of 40 products. The population mean is 30 and the population standard deviation of the delivery time is 12.5 days."
   ]
  },
  {
   "cell_type": "markdown",
   "id": "f186f229",
   "metadata": {},
   "source": [
    "### data = [16.0, 16.0, 30.0, 37.0, 25.0, 22.0, 19.0, 35.0, 27.0, 32.0, 34.0, 28.0, 24.0, 35.0, 24.0, 21.0, 32.0, 29.0, 24.0, 35.0, 28.0, 29.0, 18.0, 31.0, 28.0, 33.0, 32.0, 24.0, 25.0, 22.0, 21.0, 27.0, 41.0, 23.0, 23.0, 16.0, 24.0, 38.0, 26.0, 28.0]"
   ]
  },
  {
   "cell_type": "markdown",
   "id": "f7615c65",
   "metadata": {},
   "source": [
    "ques13. Calculate the mean and standard deviation of these observations and check if calculate Z-statistics can be applied or not"
   ]
  },
  {
   "cell_type": "code",
   "execution_count": 21,
   "id": "89e74cf1",
   "metadata": {},
   "outputs": [
    {
     "name": "stdout",
     "output_type": "stream",
     "text": [
      "Sample Mean:  27.05\n",
      "Sample Standard Deviation:  6.1682655584856265\n",
      "The length of the data is 40.\n"
     ]
    }
   ],
   "source": [
    "data = [16.0, 16.0, 30.0, 37.0, 25.0, 22.0, 19.0, 35.0, 27.0, 32.0,\n",
    "34.0, 28.0, 24.0, 35.0, 24.0, 21.0, 32.0, 29.0, 24.0, 35.0,\n",
    "28.0, 29.0, 18.0, 31.0, 28.0, 33.0, 32.0, 24.0, 25.0, 22.0,\n",
    "21.0, 27.0, 41.0, 23.0, 23.0, 16.0, 24.0, 38.0, 26.0, 28.0]\n",
    "print(\"Sample Mean: \", np.mean(data))\n",
    "print(\"Sample Standard Deviation: \", np.std(data))\n",
    "\n",
    "length = len(data)\n",
    "print('The length of the data is {}.'.format(length))"
   ]
  },
  {
   "cell_type": "markdown",
   "id": "c7fc1b2c",
   "metadata": {},
   "source": [
    "ques14. Conduct a hypothesis test at significance level a = 0.05 to verify the claim made by the e-commerce company 'ClickDart'."
   ]
  },
  {
   "cell_type": "code",
   "execution_count": 23,
   "id": "46629712",
   "metadata": {},
   "outputs": [
    {
     "name": "stdout",
     "output_type": "stream",
     "text": [
      "z-score value  -1.4926  p-value  0.0678\n"
     ]
    }
   ],
   "source": [
    "pop_mean = 30\n",
    "pop_std = 12.5\n",
    "sample_mean = np.mean(data)\n",
    "n = len(data)\n",
    "z_score = (sample_mean - pop_mean)/(pop_std/np.sqrt(n))\n",
    "p_value = stats.norm.cdf(z_score)\n",
    "\n",
    "print('z-score value  {}  p-value  {}'.format(round(z_score, 4), round(p_value, 4)))"
   ]
  },
  {
   "cell_type": "markdown",
   "id": "87e019eb",
   "metadata": {},
   "source": [
    "Accepted.....p-value is greater than 0.05"
   ]
  },
  {
   "cell_type": "markdown",
   "id": "5dc9ad96",
   "metadata": {},
   "source": [
    "## Glitch Productions (GP) is a newly formed movie production house based out of Atlanta. GP was interested in understanding the production cost required for producing a Hollywood movie. The industry believes that the production house will require 70 million dollars on average. It is assumed that the Hollywood movie production cost follows a normal distribution. The production costs of 40 Hollywood movies in millions of dollars are given below."
   ]
  },
  {
   "cell_type": "markdown",
   "id": "6892f943",
   "metadata": {},
   "source": [
    "### data = [81, 89, 53, 56, 77, 58, 78, 45, 62, 55, 72, 8, 10, 16, 8, 33, 36, 32, 66, 62, 48, 84, 67, 91, 62, 46, 89, 99, 92, 77, 29, 66, 44, 26, 66, 67,25, 35, 57, 63]"
   ]
  },
  {
   "cell_type": "markdown",
   "id": "8d515405",
   "metadata": {},
   "source": [
    "ques15. Conduct an appropriate hypothesis test at a = 0.05 to check whether the belief about average production cost is correct."
   ]
  },
  {
   "cell_type": "code",
   "execution_count": 24,
   "id": "91388534",
   "metadata": {},
   "outputs": [
    {
     "data": {
      "text/plain": [
       "TtestResult(statistic=-3.665302876275585, pvalue=0.0007341698578724995, df=39)"
      ]
     },
     "execution_count": 24,
     "metadata": {},
     "output_type": "execute_result"
    }
   ],
   "source": [
    "data = [81, 89, 53, 56, 77, 58, 78, 45, 62, 55, 72, 8, 10,\n",
    "        16, 8, 33, 36, 32, 66, 62, 48, 84, 67, 91, 62, 46,\n",
    "        89, 99, 92, 77, 29, 66, 44, 26, 66, 67,25, 35, 57, 63]\n",
    "stats.ttest_1samp(data, 70)"
   ]
  },
  {
   "cell_type": "markdown",
   "id": "003c7ca4",
   "metadata": {},
   "source": [
    "rejected: p-value is less"
   ]
  },
  {
   "cell_type": "markdown",
   "id": "b6b2062c",
   "metadata": {},
   "source": [
    "Note: Consider the below image for the questions 16 and 17\n",
    "<img src=\"image.png\">"
   ]
  },
  {
   "cell_type": "markdown",
   "id": "7ba7bbae",
   "metadata": {},
   "source": [
    "ques16. What is the probability that a girl is chosen given that she likes Pizza?"
   ]
  },
  {
   "cell_type": "code",
   "execution_count": 25,
   "id": "d1f7f9f7",
   "metadata": {},
   "outputs": [
    {
     "name": "stdout",
     "output_type": "stream",
     "text": [
      "The probability that a girl is chosen given that she likes Pizza is 67.0%\n"
     ]
    }
   ],
   "source": [
    "PPgG = 60/85\n",
    "PG = 85/155\n",
    "PP = 90/155\n",
    "\n",
    "PGgP = (PPgG * PG) / PP\n",
    "PGgP = round(PGgP, 2) * 100\n",
    "\n",
    "print('The probability that a girl is chosen given that she likes Pizza is {}%'.format(PGgP))"
   ]
  },
  {
   "cell_type": "markdown",
   "id": "1a1df9d5",
   "metadata": {},
   "source": [
    "ques17. What is the probability that a boy likes both the dishes?"
   ]
  },
  {
   "cell_type": "code",
   "execution_count": 26,
   "id": "2cf770f1",
   "metadata": {},
   "outputs": [
    {
     "name": "stdout",
     "output_type": "stream",
     "text": [
      "The probability that a boy likes both the dishes is 45.0%\n"
     ]
    }
   ],
   "source": [
    "PB_likes_SP = 70/155\n",
    "\n",
    "PB_likes_SP = round(PB_likes_SP, 2) * 100\n",
    "\n",
    "print('The probability that a boy likes both the dishes is {}%'.format(PB_likes_SP))"
   ]
  },
  {
   "cell_type": "markdown",
   "id": "d828d007",
   "metadata": {},
   "source": [
    "ques18. What is the probability that the favourite dish for both boys and girls is sizzlers?"
   ]
  },
  {
   "cell_type": "code",
   "execution_count": 27,
   "id": "565ab96a",
   "metadata": {},
   "outputs": [
    {
     "name": "stdout",
     "output_type": "stream",
     "text": [
      "The probability that a boy likes both the dishes is 42.0%\n"
     ]
    }
   ],
   "source": [
    "PS = 65/155\n",
    "PS = round(PS, 2) * 100\n",
    "\n",
    "print('The probability that a boy likes both the dishes is {}%'.format(PS))"
   ]
  },
  {
   "cell_type": "markdown",
   "id": "ed6ebb44",
   "metadata": {},
   "source": [
    "ques19. What is the probability that the favourite food is Pizza given that he is a boy?"
   ]
  },
  {
   "cell_type": "code",
   "execution_count": 29,
   "id": "dc83185c",
   "metadata": {},
   "outputs": [
    {
     "name": "stdout",
     "output_type": "stream",
     "text": [
      "The probability that the favourite food is Pizza given that he is a boy is 43.0%\n"
     ]
    }
   ],
   "source": [
    "PBgP = 30/90\n",
    "PB = 70/155\n",
    "PP = 90/155\n",
    "PPgB = (PBgP * PP) / PB\n",
    "PPgB = round(PPgB, 2) * 100\n",
    "\n",
    "print('The probability that the favourite food is Pizza given that he is a boy is {}%'.format(PPgB))"
   ]
  },
  {
   "cell_type": "markdown",
   "id": "100fcfec",
   "metadata": {},
   "source": [
    "ques20. An experiment to study obesity in male workers shows that the average BMI for 36 workers is 23.79. While rechecking the forms, it was noticed that the BMI of a worker was misread as 21.32 instead of 27.32. Find the correct average BMI."
   ]
  },
  {
   "cell_type": "code",
   "execution_count": 33,
   "id": "b0de1677",
   "metadata": {},
   "outputs": [
    {
     "name": "stdout",
     "output_type": "stream",
     "text": [
      "Correct average BMI: 23.956666666666663\n"
     ]
    }
   ],
   "source": [
    "incorrect__bmi = 23.79\n",
    "n = 36\n",
    "incorrect_sum_bmi = incorrect__bmi*n\n",
    "correct_obs = 27.32\n",
    "incorrect_obs = 21.32\n",
    "correct_sum_bmi = incorrect_sum_bmi + correct_obs - incorrect_obs\n",
    "\n",
    "correct_avg_bmi = correct_sum_bmi / n\n",
    "\n",
    "print('Correct average BMI:', correct_avg_bmi)"
   ]
  },
  {
   "cell_type": "markdown",
   "id": "1c44e77c",
   "metadata": {},
   "source": [
    "ques21. Write a function that returns the type of skewness in the given data"
   ]
  },
  {
   "cell_type": "markdown",
   "id": "55038a54",
   "metadata": {},
   "source": [
    "Consider the age of 15 students enrolled in data science program.\n",
    "\n",
    "age = [22, 29, 24, 32, 37, 26, 25, 45, 28, 22, 39, 47, 23, 36, 43]\n",
    "\n",
    "Hint: Use the skew() from scipy library."
   ]
  },
  {
   "cell_type": "code",
   "execution_count": 34,
   "id": "59834206",
   "metadata": {},
   "outputs": [
    {
     "name": "stdout",
     "output_type": "stream",
     "text": [
      "Data is positively skewed with coefficient of skewness = 0.4454660564320138\n"
     ]
    }
   ],
   "source": [
    "from scipy.stats import skew\n",
    "\n",
    "def skew_type(data):\n",
    "    \n",
    "    skew_coeff = skew(data)\n",
    "    \n",
    "    if skew_coeff > 0:\n",
    "        print('Data is positively skewed with coefficient of skewness =', skew_coeff)\n",
    "    if skew_coeff == 0:\n",
    "        print('Data is not skewed.')\n",
    "    if skew_coeff < 0:\n",
    "        print('Data is negatively skewed with coefficient of skewness =', skew_coeff)\n",
    "        \n",
    "age = pd.Series([22, 29, 24, 32, 37, 26, 25, 45, 28, 22, 39, 47, 23, 36, 43])\n",
    "\n",
    "skew_type(age)"
   ]
  },
  {
   "cell_type": "markdown",
   "id": "70a987dd",
   "metadata": {},
   "source": [
    "ques22. A machine produced, on average, 40 paperclips in 10 days. Observation for one of the days is missing from the data. Find the missing observation to identify the day on which the machine produced the highest number of paperclips."
   ]
  },
  {
   "cell_type": "markdown",
   "id": "49ddc65f",
   "metadata": {},
   "source": [
    "Consider the number of paperclips produced by a machine in 10 days. 'x' denotes missing data.\n",
    "\n",
    "num_clips = [41, 35, 42, x, 46, 34, 32, 47, 44, 39]"
   ]
  },
  {
   "cell_type": "code",
   "execution_count": 35,
   "id": "e9e01e28",
   "metadata": {},
   "outputs": [
    {
     "name": "stdout",
     "output_type": "stream",
     "text": [
      "x = 40\n"
     ]
    }
   ],
   "source": [
    "num_clips = pd.Series([41, 35, 42, 46, 34, 32, 47, 44, 39])\n",
    "mean_value = 40\n",
    "n = 10\n",
    "paperclips_sum = mean_value * n \n",
    "print('x =', paperclips_sum - num_clips.sum())"
   ]
  },
  {
   "cell_type": "markdown",
   "id": "bac18d57",
   "metadata": {},
   "source": [
    "ques23. Consider the height of 12 students in a class. Obtain the range of height for the middle 50% of the data."
   ]
  },
  {
   "cell_type": "markdown",
   "id": "d2f42807",
   "metadata": {},
   "source": [
    "Consider the height of 12 students in a class.\n",
    "\n",
    "height (cm) = [162, 158, 149, 167, 162, 154, 172, 160, 164, 159, 175, 163]"
   ]
  },
  {
   "cell_type": "code",
   "execution_count": 36,
   "id": "5fdc1731",
   "metadata": {},
   "outputs": [
    {
     "name": "stdout",
     "output_type": "stream",
     "text": [
      "Range of middle 50% of the data: 6.0\n"
     ]
    }
   ],
   "source": [
    "height = pd.Series([162, 158, 149, 167, 162, 154, 172, 160, 164, 159, 175, 163])\n",
    "\n",
    "Q1 = height.quantile(0.25)\n",
    "\n",
    "Q3 = height.quantile(0.75)\n",
    "\n",
    "IQR = Q3 - Q1\n",
    "\n",
    "print('Range of middle 50% of the data:', IQR)"
   ]
  },
  {
   "cell_type": "markdown",
   "id": "5d1a520c",
   "metadata": {},
   "source": [
    "ques24. The ratings of the movies selected for an award are negatively skewed with Karl Pearson's coefficient of skewness as -0.46. The average rating is 3.52, with a standard deviation of 1.7. Find the median rating of the movies."
   ]
  },
  {
   "cell_type": "markdown",
   "id": "5c42ddcd",
   "metadata": {},
   "source": [
    "Karl Pearson's coefficient of skewness is given as:\n",
    "\n",
    "Sk=  3(𝑚𝑒𝑎𝑛−𝑚𝑒𝑑𝑖𝑎𝑛)𝜎\n",
    " \n",
    "\n",
    "Thus,\n",
    "\n",
    "median =  𝑚𝑒𝑎𝑛−𝜎𝑆𝑘3"
   ]
  },
  {
   "cell_type": "code",
   "execution_count": 37,
   "id": "8f08b8ff",
   "metadata": {},
   "outputs": [
    {
     "name": "stdout",
     "output_type": "stream",
     "text": [
      "Meadian rating of the movies: 3.780666666666667\n"
     ]
    }
   ],
   "source": [
    "skew_coeff = -0.46\n",
    "mean_value = 3.52\n",
    "sd_value = 1.7\n",
    "median = mean_value - ((sd_value*skew_coeff) / 3)\n",
    "print('Meadian rating of the movies:', median)"
   ]
  },
  {
   "cell_type": "markdown",
   "id": "4b1e4955",
   "metadata": {},
   "source": [
    "ques25. A study reports the monthly count of new subscribers of bloggers; Sheldon, Ross and Joey for a year. Find out who has more consistency in the number of new subscribers?"
   ]
  },
  {
   "cell_type": "markdown",
   "id": "317f1ddb",
   "metadata": {},
   "source": [
    "The count of new subscribers (in thousands) is given below:\n",
    "\n",
    "Month\tSheldon\tRoss\tJoey\n",
    "Jan\t3\t4\t4.3\n",
    "Feb\t5.1\t4.6\t4\n",
    "Mar\t2.9\t3.1\t4.5\n",
    "Apr\t3.7\t4.2\t5.1\n",
    "May\t4.2\t5.4\t6\n",
    "Jun\t4.2\t3.4\t5\n",
    "July\t4.3\t5\t4.8\n",
    "Aug\t5.2\t6.2\t5.4\n",
    "Sept\t3.7\t4.2\t5.1\n",
    "Oct\t4.4\t3.5\t6.4\n",
    "Nov\t5.2\t4.1\t4.2\n",
    "Dec\t3.4\t5.5\t3.4\n",
    "To find out the consistent blogger; let us calculate the coefficient of variation (c.v.) for each one of them."
   ]
  },
  {
   "cell_type": "code",
   "execution_count": 39,
   "id": "72bf9696",
   "metadata": {},
   "outputs": [
    {
     "name": "stdout",
     "output_type": "stream",
     "text": [
      "C.V. for Sheldon: 19.45762838254265\n",
      "C.V. for Ross: 21.145192478821624\n",
      "C.V. for Joey: 17.417938275352736\n"
     ]
    }
   ],
   "source": [
    "sheldon_sub = pd.Series([3, 5.1, 2.9, 3.7, 4.2, 4.2, 4.3, 5.2, 3.7, 4.4, 5.2, 3.4])\n",
    "ross_sub = pd.Series([4, 4.6, 3.1, 4.2, 5.4, 3.4, 5, 6.2, 4.2, 3.5, 4.1, 5.5])\n",
    "joey_sub = pd.Series([4.3, 4, 4.5, 5.1, 6, 5, 4.8, 5.4, 5.1, 6.4, 4.2, 3.4])\n",
    "\n",
    "sheldon_avg = sheldon_sub.mean()\n",
    "sheldon_sd = sheldon_sub.std()\n",
    "sheldon_cv = (sheldon_sd/sheldon_avg)*100\n",
    "ross_avg = ross_sub.mean()\n",
    "ross_sd = ross_sub.std()\n",
    "ross_cv = (ross_sd/ross_avg)*100\n",
    "joey_avg = joey_sub.mean()\n",
    "joey_sd = joey_sub.std()\n",
    "joey_cv = (joey_sd/joey_avg)*100\n",
    "print('C.V. for Sheldon:', sheldon_cv)\n",
    "print('C.V. for Ross:', ross_cv)\n",
    "print('C.V. for Joey:', joey_cv)"
   ]
  },
  {
   "cell_type": "markdown",
   "id": "1ac782e4",
   "metadata": {},
   "source": [
    "ques26. It has been claimed from past observations that the average diameter of bolts from a manufacturing process is 1.25 cm. Based on the collected sample of size 150, is there evidence to suggest that the average diameter is not 1.25 cm?"
   ]
  },
  {
   "cell_type": "markdown",
   "id": "95155c99",
   "metadata": {},
   "source": [
    "Diameter of bolts: 0.89, 1.39, 1.29, 1.36, 1.39, 1.44, 1.24, 0.82, 1.25, 0.85, 0.75, 1.34, 0.84, 1.27, 1.04, 1.36, 1.18, 1.49, 1.54, 0.83, 1.11, 1.14, 1.3 , 0.99, 1.21, 1.51, 1.02, 1.19, 1.05, 1.23, 0.76, 0.81, 0.92, 0.82, 1.64, 1.02, 1.61, 1.2, 1.17, 1.61, 1.23, 1.11, 1.17, 1.63, 1.33, 1.07, 0.94, 1.53, 1.38, 0.8 , 0.95, 1.4 , 1.09, 1.32, 1.43, 1.12, 1.2 , 0.94, 0.98, 1.54, 1.21, 1.4 , 1.13, 0.75, 1.02, 0.99, 1.49, 1.34, 1.57, 1.51, 1.42, 1.27, 0.78, 1.52, 1.5 , 1.13, 1.17, 1.17, 1.21, 1.14, 1.23, 1.46, 1.62, 1.11, 1.28, 1.25, 1.48, 0.76, 1.45, 1.38, 1.15, 0.95, 1.13, 1.24, 1.41, 1.38, 0.86, 1.39, 1.57, 1.32, 1.43, 1.55, 0.89, 1.06, 1.27, 1.46, 0.94, 1.53, 0.87, 1.47, 1.04, 1.12, 1.09, 1.45, 1.37, 1.18, 1.22, 1.29, 1.28, 1.59, 1.06, 1.49, 1.01, 1.31, 1.21, 1.32, 1.59, 0.85, 1.06, 0.82, 1.31, 1.32, 1.05, 1.6 , 0.87, 0.85, 1.13, 1.55, 1.15, 1.11, 1.58, 1.47, 1.52, 1.31, 1.16, 1.12, 0.85, 1.61, 1.42, 1.61\n",
    "\n",
    "Let\n",
    "X: diameter of the bolt\n",
    "Thus  𝜇\n",
    " : the average diameter of the bolts\n",
    "\n",
    "The hypothesis is\n",
    "H0: The mean diameter of the bolts is equal to 1.25, i.e  𝜇\n",
    "  = 1.25\n",
    "AGAINST\n",
    "Ha: The mean diameter of the bolts is not equal to 1.25, , i.e  𝜇\n",
    "  ≠ 12.5"
   ]
  },
  {
   "cell_type": "code",
   "execution_count": 40,
   "id": "95a2a9cf",
   "metadata": {},
   "outputs": [
    {
     "data": {
      "text/plain": [
       "(-1.3181466899835235, 0.18745454730541933)"
      ]
     },
     "execution_count": 40,
     "metadata": {},
     "output_type": "execute_result"
    }
   ],
   "source": [
    "diameter_cm = pd.Series(\n",
    "    [0.89, 1.39, 1.29, 1.36, 1.39, 1.44, 1.24, 0.82, 1.25, 0.85, 0.75, 1.34, 0.84, 1.27, 1.04, 1.36, 1.18, \n",
    "    1.49, 1.54, 0.83, 1.11, 1.14, 1.3 , 0.99, 1.21, 1.51, 1.02, 1.19, 1.05, 1.23, 0.76, 0.81, 0.92, 0.82, \n",
    "    1.64, 1.02, 1.61, 1.2, 1.17, 1.61, 1.23, 1.11, 1.17, 1.63, 1.33, 1.07, 0.94, 1.53, 1.38, 0.8 , 0.95, \n",
    "    1.4 , 1.09, 1.32, 1.43, 1.12, 1.2 , 0.94, 0.98, 1.54, 1.21, 1.4 , 1.13, 0.75, 1.02, 0.99, 1.49, 1.34, \n",
    "    1.57, 1.51, 1.42, 1.27, 0.78, 1.52, 1.5 , 1.13, 1.17, 1.17, 1.21, 1.14, 1.23, 1.46, 1.62, 1.11, 1.28, \n",
    "    1.25, 1.48, 0.76, 1.45, 1.38, 1.15, 0.95, 1.13, 1.24, 1.41, 1.38, 0.86, 1.39, 1.57, 1.32, 1.43, 1.55, \n",
    "    0.89, 1.06, 1.27, 1.46, 0.94, 1.53, 0.87, 1.47, 1.04, 1.12, 1.09, 1.45, 1.37, 1.18, 1.22, 1.29, 1.28, \n",
    "    1.59, 1.06, 1.49, 1.01, 1.31, 1.21, 1.32, 1.59, 0.85, 1.06, 0.82, 1.31, 1.32, 1.05, 1.6 , 0.87, 0.85, \n",
    "    1.13, 1.55, 1.15, 1.11, 1.58, 1.47, 1.52, 1.31, 1.16, 1.12, 0.85, 1.61, 1.42, 1.61])\n",
    "\n",
    "from statsmodels.stats import weightstats as stests\n",
    "stests.ztest(diameter_cm, value = 1.25)"
   ]
  },
  {
   "cell_type": "markdown",
   "id": "9055645f",
   "metadata": {},
   "source": [
    "p value is more than level of significance"
   ]
  },
  {
   "cell_type": "markdown",
   "id": "84c6bf50",
   "metadata": {},
   "source": [
    "ques27. Tesco Pharma claims to have produced a new drug which reduces the systolic Blood Pressure after usage of a week.\n",
    "The BP of 8 patients are recorded before medication and after medication. Do the data suggest that the drug is effective in reducing the systolic blood pressure?"
   ]
  },
  {
   "cell_type": "markdown",
   "id": "44ea9cfe",
   "metadata": {},
   "source": [
    "Before\tAfter\n",
    "90\t85\n",
    "85\t87\n",
    "78\t82\n",
    "88\t83\n",
    "90\t82\n",
    "100\t99\n",
    "92\t94\n",
    "81\t78"
   ]
  },
  {
   "cell_type": "markdown",
   "id": "31fd97a2",
   "metadata": {},
   "source": [
    "Let\n",
    "X: systolic blood pressure before medication\n",
    "Y: systolic blood pressure after medication\n",
    "\n",
    "Thus\n",
    "𝜇\n",
    " X: the average systolic blood pressure before medication\n",
    "𝜇\n",
    " Y: the average systolic blood pressure after medication\n",
    "\n",
    "The hypothesis is\n",
    "H0: The average systolic blood pressure before medication is equal to the average systolic blood pressure after medication, i.e  𝜇\n",
    " X =  𝜇\n",
    " Y\n",
    "AGAINST\n",
    "Ha: The average systolic blood pressure before medication is less than the average systolic blood pressure after medication, i.e  𝜇\n",
    " X <  𝜇\n",
    " Y"
   ]
  },
  {
   "cell_type": "code",
   "execution_count": 41,
   "id": "b4897bfc",
   "metadata": {},
   "outputs": [
    {
     "data": {
      "text/plain": [
       "TtestResult(statistic=1.1784158720975104, pvalue=0.27713277282901, df=7)"
      ]
     },
     "execution_count": 41,
     "metadata": {},
     "output_type": "execute_result"
    }
   ],
   "source": [
    "BP_before = pd.Series([90, 85, 78, 88, 90, 100, 92, 81])\n",
    "BP_after = pd.Series([85, 87, 82, 83, 82, 99, 94, 78])\n",
    "from scipy.stats import ttest_rel\n",
    "ttest_rel(BP_before, BP_after)"
   ]
  },
  {
   "cell_type": "markdown",
   "id": "74dc0a9a",
   "metadata": {},
   "source": [
    "p value is more than significance level so accepted"
   ]
  },
  {
   "cell_type": "markdown",
   "id": "8f62e678",
   "metadata": {},
   "source": [
    "ques28. A researcher at BioSeed limited, claims to have modified the existing seed. The yeild for the two types of seeds is recorded for 10 equally sized farms. Is there enough evidence to claim that the there is no difference in the yeild due to the seed type?"
   ]
  },
  {
   "cell_type": "markdown",
   "id": "c5e6684f",
   "metadata": {},
   "source": [
    "Yield due to Ordinary Seed:\n",
    "450, 340, 562, 563, 234, 546, 876, 649, 736, 745\n",
    "\n",
    "Yield due to Modified Seed:\n",
    "345, 576, 675, 674, 865, 457, 776, 567, 568, 753"
   ]
  },
  {
   "cell_type": "code",
   "execution_count": 43,
   "id": "e3f919a3",
   "metadata": {},
   "outputs": [
    {
     "data": {
      "text/plain": [
       "Ttest_indResult(statistic=-0.7059501484609986, pvalue=0.4892561782804804)"
      ]
     },
     "execution_count": 43,
     "metadata": {},
     "output_type": "execute_result"
    }
   ],
   "source": [
    "ordinary_seed = pd.Series([450, 340, 562, 563, 234, 546, 876, 649, 736, 745])\n",
    "modified_seed = pd.Series([345, 576, 675, 674, 865, 457, 776, 567, 568, 753])\n",
    "from scipy.stats import ttest_ind\n",
    "ttest_ind(ordinary_seed, modified_seed)"
   ]
  },
  {
   "cell_type": "markdown",
   "id": "c9c72d7f",
   "metadata": {},
   "source": [
    "p value is less than significance level so rejected"
   ]
  },
  {
   "cell_type": "markdown",
   "id": "67f27465",
   "metadata": {},
   "source": [
    "ques29. Draw a random sample using np.random.random() of size 7000. Test whether the data follows normal distribution."
   ]
  },
  {
   "cell_type": "markdown",
   "id": "9fe0fc60",
   "metadata": {},
   "source": [
    "The null and alternate hypothesis of Jarque-Bera test are as follows:\n",
    "\n",
    "H0: The data is normally distributed\n",
    "AGAINST\n",
    "Ha: The data is not normally distributed"
   ]
  },
  {
   "cell_type": "code",
   "execution_count": 46,
   "id": "a555f5e4",
   "metadata": {},
   "outputs": [
    {
     "name": "stdout",
     "output_type": "stream",
     "text": [
      "test statistic 411.46318808110664 its p-value  4.48646160090536e-90\n"
     ]
    }
   ],
   "source": [
    "data = np.random.random(7000)\n",
    "from scipy.stats import jarque_bera\n",
    "stat, p = jarque_bera(data)\n",
    "print(\"test statistic\", stat,\"its p-value \",p)"
   ]
  },
  {
   "cell_type": "markdown",
   "id": "d3058219",
   "metadata": {},
   "source": [
    "p value is less than significance value: not normally distributed: H0 rejected"
   ]
  },
  {
   "cell_type": "markdown",
   "id": "01aec8a2",
   "metadata": {},
   "source": [
    "ques 30.  Assume that in a MCQ test, there are 10 questions, and each question has four options out which only one is correct. Steve knew answers to only 2 questions and has randomly marked answers for other questions. To pass the test one must answer 4 questions correctly. What is the probability that steve will pass?"
   ]
  },
  {
   "cell_type": "markdown",
   "id": "a6c76c33",
   "metadata": {},
   "source": [
    "Out of the 10 questions, Steve has answered 2 questions correctly. So from other 8 questions he needs to get 2 answers correct in order to pass the test.\n",
    "\n",
    "Let\n",
    "n: the number of questions\n",
    "p: probability of selecting the correct answer\n",
    "Here n = 10 - 2 = 8 and p = 1/4"
   ]
  },
  {
   "cell_type": "code",
   "execution_count": 48,
   "id": "e004b7ec",
   "metadata": {},
   "outputs": [
    {
     "data": {
      "text/plain": [
       "0.3214569091796875"
      ]
     },
     "execution_count": 48,
     "metadata": {},
     "output_type": "execute_result"
    }
   ],
   "source": [
    "from scipy.stats import binom\n",
    "n = 8 \n",
    "p =1/4\n",
    "1 - binom.cdf(2, n, p) "
   ]
  },
  {
   "cell_type": "markdown",
   "id": "b958a446",
   "metadata": {},
   "source": [
    "# .......................................FINISH......................................."
   ]
  },
  {
   "cell_type": "code",
   "execution_count": null,
   "id": "89a9f18c",
   "metadata": {},
   "outputs": [],
   "source": []
  }
 ],
 "metadata": {
  "kernelspec": {
   "display_name": "Python 3 (ipykernel)",
   "language": "python",
   "name": "python3"
  },
  "language_info": {
   "codemirror_mode": {
    "name": "ipython",
    "version": 3
   },
   "file_extension": ".py",
   "mimetype": "text/x-python",
   "name": "python",
   "nbconvert_exporter": "python",
   "pygments_lexer": "ipython3",
   "version": "3.11.4"
  }
 },
 "nbformat": 4,
 "nbformat_minor": 5
}
